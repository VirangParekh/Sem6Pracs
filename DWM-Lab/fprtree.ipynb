{
 "metadata": {
  "language_info": {
   "codemirror_mode": {
    "name": "ipython",
    "version": 3
   },
   "file_extension": ".py",
   "mimetype": "text/x-python",
   "name": "python",
   "nbconvert_exporter": "python",
   "pygments_lexer": "ipython3",
   "version": "3.8.6"
  },
  "orig_nbformat": 2,
  "kernelspec": {
   "name": "python386jvsc74a57bd0c062d0fa8f834dfe0d680daaba93d7a40efccd0ea6a25bb697b77d8726f82f51",
   "display_name": "Python 3.8.6 64-bit"
  },
  "metadata": {
   "interpreter": {
    "hash": "c062d0fa8f834dfe0d680daaba93d7a40efccd0ea6a25bb697b77d8726f82f51"
   }
  }
 },
 "nbformat": 4,
 "nbformat_minor": 2,
 "cells": [
  {
   "cell_type": "code",
   "execution_count": 12,
   "metadata": {},
   "outputs": [],
   "source": [
    "import pandas as pd\n",
    "import numpy as np\n",
    "from mlxtend.frequent_patterns import fpgrowth\n",
    "from mlxtend.frequent_patterns import association_rules"
   ]
  },
  {
   "cell_type": "code",
   "execution_count": 14,
   "metadata": {},
   "outputs": [],
   "source": [
    "df = pd.read_excel(\n",
    "    'OnlineRetail.xlsx',\n",
    "     engine='openpyxl',\n",
    ")\n",
    "df['Description'] = df['Description'].str.strip()\n",
    "df.dropna(axis=0, subset=['InvoiceNo'], inplace=True)\n",
    "df['InvoiceNo'] = df['InvoiceNo'].astype('str')\n",
    "df = df[~df['InvoiceNo'].str.contains('C')]"
   ]
  },
  {
   "cell_type": "code",
   "execution_count": 15,
   "metadata": {},
   "outputs": [],
   "source": [
    "basket = (df[df['Country'] == \"France\"]\n",
    "          .groupby(['InvoiceNo', 'Description'])['Quantity']\n",
    "          .sum().unstack().reset_index().fillna(0)\n",
    "          .set_index('InvoiceNo'))"
   ]
  },
  {
   "cell_type": "code",
   "execution_count": 16,
   "metadata": {},
   "outputs": [],
   "source": [
    "def encode_units(x):\n",
    "    if x <= 0:\n",
    "        return 0\n",
    "    if x >= 1:\n",
    "        return 1"
   ]
  },
  {
   "cell_type": "code",
   "execution_count": 19,
   "metadata": {},
   "outputs": [
    {
     "output_type": "stream",
     "name": "stdout",
     "text": [
      "     support                                           itemsets\n0   0.181122                    (RED TOADSTOOL LED NIGHT LIGHT)\n1   0.158163               (ROUND SNACK BOXES SET OF4 WOODLAND)\n2   0.125000                               (SPACEBOY LUNCH BOX)\n3   0.104592                           (MINI PAINT SET VINTAGE)\n4   0.102041                        (ALARM CLOCK BAKELIKE PINK)\n5   0.096939                       (ALARM CLOCK BAKELIKE GREEN)\n6   0.094388                         (ALARM CLOCK BAKELIKE RED)\n7   0.153061                          (LUNCH BAG RED RETROSPOT)\n8   0.142857                 (LUNCH BOX WITH CUTLERY RETROSPOT)\n9   0.137755                         (RED RETROSPOT MINI CASES)\n10  0.117347                               (LUNCH BAG WOODLAND)\n11  0.094388                          (TEA PARTY BIRTHDAY CARD)\n12  0.170918                 (PLASTERS IN TIN WOODLAND ANIMALS)\n13  0.137755                         (PLASTERS IN TIN SPACEBOY)\n14  0.125000                         (REGENCY CAKESTAND 3 TIER)\n15  0.122449                (STRAWBERRY LUNCH BOX WITH CUTLERY)\n16  0.076531                (SET/10 RED POLKADOT PARTY CANDLES)\n17  0.102041                  (PACK OF 72 RETROSPOT CAKE CASES)\n18  0.073980                           (WOODLAND CHARLOTTE BAG)\n19  0.119898                        (LUNCH BAG SPACEBOY DESIGN)\n20  0.137755                      (SET/6 RED SPOTTY PAPER CUPS)\n21  0.127551                    (SET/6 RED SPOTTY PAPER PLATES)\n22  0.099490                             (DOLLY GIRL LUNCH BOX)\n23  0.168367                    (PLASTERS IN TIN CIRCUS PARADE)\n24  0.071429                      (4 TRADITIONAL SPINNING TOPS)\n25  0.084184                      (LUNCH BAG DOLLY GIRL DESIGN)\n26  0.132653               (SET/20 RED RETROSPOT PAPER NAPKINS)\n27  0.081633                        (PLASTERS IN TIN STRONGMAN)\n28  0.071429                           (SPACEBOY BIRTHDAY CARD)\n29  0.107143                (ROUND SNACK BOXES SET OF 4 FRUITS)\n30  0.081633                          (PAPER BUNTING RETROSPOT)\n31  0.096939                      (RED RETROSPOT CHARLOTTE BAG)\n32  0.096939                          (JUMBO BAG RED RETROSPOT)\n33  0.081633                     (BAKING SET 9 PIECE RETROSPOT)\n34  0.071429                         (RED RETROSPOT PICNIC BAG)\n35  0.086735                  (RETROSPOT TEA SET CERAMIC 11 PC)\n36  0.076531                       (JUMBO BAG WOODLAND ANIMALS)\n37  0.125000                           (LUNCH BAG APPLE DESIGN)\n38  0.071429                     (CHILDRENS CUTLERY DOLLY GIRL)\n39  0.188776                               (RABBIT NIGHT LIGHT)\n40  0.073980  (ALARM CLOCK BAKELIKE PINK, ALARM CLOCK BAKELI...\n41  0.079082  (ALARM CLOCK BAKELIKE GREEN, ALARM CLOCK BAKEL...\n42  0.073980  (ALARM CLOCK BAKELIKE PINK, ALARM CLOCK BAKELI...\n43  0.104592  (PLASTERS IN TIN WOODLAND ANIMALS, PLASTERS IN...\n44  0.089286  (PLASTERS IN TIN CIRCUS PARADE, PLASTERS IN TI...\n45  0.122449  (SET/6 RED SPOTTY PAPER CUPS, SET/6 RED SPOTTY...\n46  0.102041  (SET/6 RED SPOTTY PAPER PLATES, SET/20 RED RET...\n47  0.099490  (SET/6 RED SPOTTY PAPER CUPS, SET/6 RED SPOTTY...\n48  0.071429         (SPACEBOY LUNCH BOX, DOLLY GIRL LUNCH BOX)\n49  0.102041  (PLASTERS IN TIN WOODLAND ANIMALS, PLASTERS IN...\n50  0.102041  (SET/6 RED SPOTTY PAPER CUPS, SET/20 RED RETRO...\n"
     ]
    }
   ],
   "source": [
    "from pprint import pprint\n",
    "basket_sets = basket.applymap(encode_units)\n",
    "basket_sets.drop('POSTAGE', inplace=True, axis=1)\n",
    "frequent_itemsets = fpgrowth(basket_sets, min_support=0.07, use_colnames=True)\n",
    "pprint(frequent_itemsets)"
   ]
  },
  {
   "cell_type": "code",
   "execution_count": 18,
   "metadata": {},
   "outputs": [
    {
     "output_type": "execute_result",
     "data": {
      "text/plain": [
       "                                          antecedents  \\\n",
       "2                        (ALARM CLOCK BAKELIKE GREEN)   \n",
       "3                          (ALARM CLOCK BAKELIKE RED)   \n",
       "7                       (SET/6 RED SPOTTY PAPER CUPS)   \n",
       "8                     (SET/6 RED SPOTTY PAPER PLATES)   \n",
       "9                     (SET/6 RED SPOTTY PAPER PLATES)   \n",
       "11  (SET/6 RED SPOTTY PAPER CUPS, SET/6 RED SPOTTY...   \n",
       "12  (SET/6 RED SPOTTY PAPER CUPS, SET/20 RED RETRO...   \n",
       "13  (SET/6 RED SPOTTY PAPER PLATES, SET/20 RED RET...   \n",
       "\n",
       "                             consequents  antecedent support  \\\n",
       "2             (ALARM CLOCK BAKELIKE RED)            0.096939   \n",
       "3           (ALARM CLOCK BAKELIKE GREEN)            0.094388   \n",
       "7        (SET/6 RED SPOTTY PAPER PLATES)            0.137755   \n",
       "8          (SET/6 RED SPOTTY PAPER CUPS)            0.127551   \n",
       "9   (SET/20 RED RETROSPOT PAPER NAPKINS)            0.127551   \n",
       "11  (SET/20 RED RETROSPOT PAPER NAPKINS)            0.122449   \n",
       "12       (SET/6 RED SPOTTY PAPER PLATES)            0.102041   \n",
       "13         (SET/6 RED SPOTTY PAPER CUPS)            0.102041   \n",
       "\n",
       "    consequent support   support  confidence      lift  leverage  conviction  \n",
       "2             0.094388  0.079082    0.815789  8.642959  0.069932    4.916181  \n",
       "3             0.096939  0.079082    0.837838  8.642959  0.069932    5.568878  \n",
       "7             0.127551  0.122449    0.888889  6.968889  0.104878    7.852041  \n",
       "8             0.137755  0.122449    0.960000  6.968889  0.104878   21.556122  \n",
       "9             0.132653  0.102041    0.800000  6.030769  0.085121    4.336735  \n",
       "11            0.132653  0.099490    0.812500  6.125000  0.083247    4.625850  \n",
       "12            0.127551  0.099490    0.975000  7.644000  0.086474   34.897959  \n",
       "13            0.137755  0.099490    0.975000  7.077778  0.085433   34.489796  "
      ],
      "text/html": "<div>\n<style scoped>\n    .dataframe tbody tr th:only-of-type {\n        vertical-align: middle;\n    }\n\n    .dataframe tbody tr th {\n        vertical-align: top;\n    }\n\n    .dataframe thead th {\n        text-align: right;\n    }\n</style>\n<table border=\"1\" class=\"dataframe\">\n  <thead>\n    <tr style=\"text-align: right;\">\n      <th></th>\n      <th>antecedents</th>\n      <th>consequents</th>\n      <th>antecedent support</th>\n      <th>consequent support</th>\n      <th>support</th>\n      <th>confidence</th>\n      <th>lift</th>\n      <th>leverage</th>\n      <th>conviction</th>\n    </tr>\n  </thead>\n  <tbody>\n    <tr>\n      <th>2</th>\n      <td>(ALARM CLOCK BAKELIKE GREEN)</td>\n      <td>(ALARM CLOCK BAKELIKE RED)</td>\n      <td>0.096939</td>\n      <td>0.094388</td>\n      <td>0.079082</td>\n      <td>0.815789</td>\n      <td>8.642959</td>\n      <td>0.069932</td>\n      <td>4.916181</td>\n    </tr>\n    <tr>\n      <th>3</th>\n      <td>(ALARM CLOCK BAKELIKE RED)</td>\n      <td>(ALARM CLOCK BAKELIKE GREEN)</td>\n      <td>0.094388</td>\n      <td>0.096939</td>\n      <td>0.079082</td>\n      <td>0.837838</td>\n      <td>8.642959</td>\n      <td>0.069932</td>\n      <td>5.568878</td>\n    </tr>\n    <tr>\n      <th>7</th>\n      <td>(SET/6 RED SPOTTY PAPER CUPS)</td>\n      <td>(SET/6 RED SPOTTY PAPER PLATES)</td>\n      <td>0.137755</td>\n      <td>0.127551</td>\n      <td>0.122449</td>\n      <td>0.888889</td>\n      <td>6.968889</td>\n      <td>0.104878</td>\n      <td>7.852041</td>\n    </tr>\n    <tr>\n      <th>8</th>\n      <td>(SET/6 RED SPOTTY PAPER PLATES)</td>\n      <td>(SET/6 RED SPOTTY PAPER CUPS)</td>\n      <td>0.127551</td>\n      <td>0.137755</td>\n      <td>0.122449</td>\n      <td>0.960000</td>\n      <td>6.968889</td>\n      <td>0.104878</td>\n      <td>21.556122</td>\n    </tr>\n    <tr>\n      <th>9</th>\n      <td>(SET/6 RED SPOTTY PAPER PLATES)</td>\n      <td>(SET/20 RED RETROSPOT PAPER NAPKINS)</td>\n      <td>0.127551</td>\n      <td>0.132653</td>\n      <td>0.102041</td>\n      <td>0.800000</td>\n      <td>6.030769</td>\n      <td>0.085121</td>\n      <td>4.336735</td>\n    </tr>\n    <tr>\n      <th>11</th>\n      <td>(SET/6 RED SPOTTY PAPER CUPS, SET/6 RED SPOTTY...</td>\n      <td>(SET/20 RED RETROSPOT PAPER NAPKINS)</td>\n      <td>0.122449</td>\n      <td>0.132653</td>\n      <td>0.099490</td>\n      <td>0.812500</td>\n      <td>6.125000</td>\n      <td>0.083247</td>\n      <td>4.625850</td>\n    </tr>\n    <tr>\n      <th>12</th>\n      <td>(SET/6 RED SPOTTY PAPER CUPS, SET/20 RED RETRO...</td>\n      <td>(SET/6 RED SPOTTY PAPER PLATES)</td>\n      <td>0.102041</td>\n      <td>0.127551</td>\n      <td>0.099490</td>\n      <td>0.975000</td>\n      <td>7.644000</td>\n      <td>0.086474</td>\n      <td>34.897959</td>\n    </tr>\n    <tr>\n      <th>13</th>\n      <td>(SET/6 RED SPOTTY PAPER PLATES, SET/20 RED RET...</td>\n      <td>(SET/6 RED SPOTTY PAPER CUPS)</td>\n      <td>0.102041</td>\n      <td>0.137755</td>\n      <td>0.099490</td>\n      <td>0.975000</td>\n      <td>7.077778</td>\n      <td>0.085433</td>\n      <td>34.489796</td>\n    </tr>\n  </tbody>\n</table>\n</div>"
     },
     "metadata": {},
     "execution_count": 18
    }
   ],
   "source": [
    "rules = association_rules(frequent_itemsets, metric=\"confidence\", min_threshold=0.7)\n",
    "rules[ (rules['lift'] >= 6) &\n",
    "       (rules['confidence'] >= 0.8) ]"
   ]
  },
  {
   "cell_type": "code",
   "execution_count": null,
   "metadata": {},
   "outputs": [],
   "source": []
  }
 ]
}